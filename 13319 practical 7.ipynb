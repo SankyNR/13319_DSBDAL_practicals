{
 "cells": [
  {
   "cell_type": "code",
   "execution_count": 1,
   "id": "e0ad4490-c78a-4bca-b24c-bc85400446af",
   "metadata": {},
   "outputs": [
    {
     "name": "stderr",
     "output_type": "stream",
     "text": [
      "[nltk_data] Downloading package punkt to C:\\Users\\Sanket\n",
      "[nltk_data]     Rathod\\AppData\\Roaming\\nltk_data...\n",
      "[nltk_data]   Package punkt is already up-to-date!\n",
      "[nltk_data] Downloading package stopwords to C:\\Users\\Sanket\n",
      "[nltk_data]     Rathod\\AppData\\Roaming\\nltk_data...\n",
      "[nltk_data]   Package stopwords is already up-to-date!\n",
      "[nltk_data] Downloading package wordnet to C:\\Users\\Sanket\n",
      "[nltk_data]     Rathod\\AppData\\Roaming\\nltk_data...\n",
      "[nltk_data]   Package wordnet is already up-to-date!\n",
      "[nltk_data] Downloading package averaged_perceptron_tagger to\n",
      "[nltk_data]     C:\\Users\\Sanket Rathod\\AppData\\Roaming\\nltk_data...\n",
      "[nltk_data]   Package averaged_perceptron_tagger is already up-to-\n",
      "[nltk_data]       date!\n",
      "[nltk_data] Downloading package punkt_tab to C:\\Users\\Sanket\n",
      "[nltk_data]     Rathod\\AppData\\Roaming\\nltk_data...\n",
      "[nltk_data]   Package punkt_tab is already up-to-date!\n",
      "[nltk_data] Downloading package averaged_perceptron_tagger_eng to\n",
      "[nltk_data]     C:\\Users\\Sanket Rathod\\AppData\\Roaming\\nltk_data...\n",
      "[nltk_data]   Package averaged_perceptron_tagger_eng is already up-to-\n",
      "[nltk_data]       date!\n"
     ]
    }
   ],
   "source": [
    "import nltk\n",
    "nltk.download('punkt')\n",
    "nltk.download('stopwords')\n",
    "nltk.download('wordnet')\n",
    "nltk.download('averaged_perceptron_tagger')\n",
    "nltk.download('punkt_tab')\n",
    "nltk.download('averaged_perceptron_tagger_eng')\n",
    "import re"
   ]
  },
  {
   "cell_type": "code",
   "execution_count": 2,
   "id": "c7bd52ff-153a-4bf7-8997-9c9bc3a12d2c",
   "metadata": {},
   "outputs": [],
   "source": [
    "text= \"Tokenization is the first step in text analytics. The process of breaking down a text paragraph into smaller chunks such as words or sentences is called Tokenization.\""
   ]
  },
  {
   "cell_type": "code",
   "execution_count": 3,
   "id": "9564000c-9d25-4ddf-b801-dcbee8e04e32",
   "metadata": {},
   "outputs": [
    {
     "name": "stdout",
     "output_type": "stream",
     "text": [
      "['Tokenization is the first step in text analytics.', 'The process of breaking down a text paragraph into smaller chunks such as words or sentences is called Tokenization.']\n",
      "['Tokenization', 'is', 'the', 'first', 'step', 'in', 'text', 'analytics', '.', 'The', 'process', 'of', 'breaking', 'down', 'a', 'text', 'paragraph', 'into', 'smaller', 'chunks', 'such', 'as', 'words', 'or', 'sentences', 'is', 'called', 'Tokenization', '.']\n"
     ]
    }
   ],
   "source": [
    "from nltk.tokenize import sent_tokenize\n",
    "tokenized_text= sent_tokenize(text)\n",
    "print(tokenized_text)\n",
    "#Word Tokenization\n",
    "from nltk.tokenize import word_tokenize\n",
    "tokenized_word=word_tokenize(text)\n",
    "print(tokenized_word)"
   ]
  },
  {
   "cell_type": "code",
   "execution_count": 4,
   "id": "2a364cc6-0c6f-4d40-b6b7-774f20454bfc",
   "metadata": {},
   "outputs": [
    {
     "name": "stdout",
     "output_type": "stream",
     "text": [
      "{\"should've\", 'ours', 'why', \"we'll\", 'when', \"you'd\", 'isn', 'an', 'am', 'hadn', 'through', 'so', 'd', \"mustn't\", \"i've\", 'don', 'off', 'our', 'been', 'before', \"that'll\", 'this', 'those', 'until', 'where', 'because', 'yourself', 'very', 'doesn', \"haven't\", 'most', 'she', 'weren', \"she'll\", 'y', 'between', 'i', 'in', 'whom', \"don't\", 'there', 'under', 'a', 'here', 'yourselves', \"it'd\", \"she's\", \"aren't\", 'was', 'above', 'too', 'my', 'the', 'll', 'itself', 'have', 'aren', \"doesn't\", 'he', 'will', 'mustn', 'more', 'any', \"wouldn't\", 'couldn', \"couldn't\", 'of', 've', 'is', 't', 'with', 'again', \"shan't\", 'such', 'yours', \"they're\", 'needn', \"it'll\", 'haven', \"hasn't\", 'no', 'her', 'we', 'that', 'out', \"i'd\", \"isn't\", 'nor', \"we've\", 'ma', 'its', 'himself', 'being', \"he'll\", 's', 'once', \"we're\", \"needn't\", \"they'll\", \"wasn't\", \"he's\", 'now', 'about', 'do', 'themselves', \"i'll\", 'than', 'other', \"weren't\", 'what', 'can', \"we'd\", \"i'm\", 'after', 'did', 'shouldn', 'by', 'how', 'were', 'theirs', 'his', 'shan', 'are', 'some', \"they've\", 'has', 'during', 'down', 'only', \"shouldn't\", 'which', 'then', 'these', 'mightn', \"he'd\", 'having', 'all', 'm', \"hadn't\", 'hasn', 'to', \"won't\", 'your', 'they', 'just', \"you'll\", 'it', 'herself', 'both', 'not', 'on', 'up', 'or', 'same', \"didn't\", 'o', 'further', 'wasn', \"you're\", 'each', 'own', 'should', \"she'd\", 'but', 'him', 'their', 'from', 'into', 'be', 'them', \"it's\", 'for', 'does', 'won', 'few', 'at', 'and', 'against', 'ain', 'ourselves', 'hers', 'over', 'didn', 'while', 'who', 'below', 'you', 'as', 'wouldn', \"they'd\", 'myself', 're', 'doing', 'me', \"mightn't\", 'had', 'if', \"you've\"}\n",
      "Tokenized Sentence: ['how', 'to', 'remove', 'stop', 'words', 'with', 'nltk', 'library', 'in', 'python']\n",
      "Filterd Sentence: ['remove', 'stop', 'words', 'nltk', 'library', 'python']\n"
     ]
    }
   ],
   "source": [
    "from nltk.corpus import stopwords\n",
    "import re\n",
    "\n",
    "stop_words=set(stopwords.words(\"english\"))\n",
    "print(stop_words)\n",
    "text= \"How to remove stop words with NLTK library in Python?\"\n",
    "text= re.sub('[^a-zA-Z]', ' ',text)\n",
    "tokens = word_tokenize(text.lower())\n",
    "filtered_text = [w for w in tokens if w not in stop_words]\n",
    "\n",
    "print(\"Tokenized Sentence:\",tokens)\n",
    "print(\"Filterd Sentence:\",filtered_text)"
   ]
  },
  {
   "cell_type": "code",
   "execution_count": 5,
   "id": "6d257b62-3954-4b60-ac56-7bf93cad1e3a",
   "metadata": {},
   "outputs": [
    {
     "name": "stdout",
     "output_type": "stream",
     "text": [
      "wait\n",
      "wait\n",
      "wait\n",
      "wait\n"
     ]
    }
   ],
   "source": [
    "from nltk.stem import PorterStemmer\n",
    "\n",
    "e_words = [\"wait\", \"waiting\", \"waited\", \"waits\"]\n",
    "ps = PorterStemmer()\n",
    "\n",
    "for w in e_words:\n",
    "    rootWord = ps.stem(w)\n",
    "    print(rootWord)"
   ]
  },
  {
   "cell_type": "code",
   "execution_count": 6,
   "id": "b9729da7-c547-4eea-9e74-78ef4d4058ce",
   "metadata": {},
   "outputs": [
    {
     "name": "stdout",
     "output_type": "stream",
     "text": [
      "Lemma for studies: study\n",
      "Lemma for studying: studying\n",
      "Lemma for cries: cry\n",
      "Lemma for cry: cry\n"
     ]
    }
   ],
   "source": [
    "from nltk.stem import WordNetLemmatizer\n",
    "\n",
    "wordnet_lemmatizer = WordNetLemmatizer()\n",
    "text = \"studies studying cries cry\"\n",
    "tokenization = nltk.word_tokenize(text)\n",
    "\n",
    "for w in tokenization:\n",
    "    print(\"Lemma for {}: {}\".format(w, wordnet_lemmatizer.lemmatize(w)))"
   ]
  },
  {
   "cell_type": "code",
   "execution_count": 7,
   "id": "6c0b046c-fea9-41e8-9ab7-2d7e6059d0df",
   "metadata": {},
   "outputs": [
    {
     "name": "stdout",
     "output_type": "stream",
     "text": [
      "[('The', 'DT')]\n",
      "[('pink', 'NN')]\n",
      "[('sweater', 'NN')]\n",
      "[('fit', 'NN')]\n",
      "[('her', 'PRP$')]\n",
      "[('perfectly', 'RB')]\n"
     ]
    }
   ],
   "source": [
    "from nltk.tokenize import word_tokenize\n",
    "data = \"The pink sweater fit her perfectly\"\n",
    "words = word_tokenize(data)\n",
    "\n",
    "for word in words:\n",
    "    print(nltk.pos_tag([word]))"
   ]
  },
  {
   "cell_type": "code",
   "execution_count": 8,
   "id": "a2ee422c-b0b3-4885-8054-2a44773c7a86",
   "metadata": {},
   "outputs": [],
   "source": [
    "import pandas as pd\n",
    "from sklearn.feature_extraction.text import TfidfVectorizer\n",
    "import math"
   ]
  },
  {
   "cell_type": "code",
   "execution_count": 9,
   "id": "b9a06256-51ce-4f29-88d6-a03174c2b9f0",
   "metadata": {},
   "outputs": [],
   "source": [
    "documentA = 'Jupiter is the largest Planet'\n",
    "documentB = 'Mars is the fourth planet from the Sun'"
   ]
  },
  {
   "cell_type": "code",
   "execution_count": 10,
   "id": "e6ef9d8b-56f6-4f5b-a4fc-892aee848667",
   "metadata": {},
   "outputs": [],
   "source": [
    "bagOfWordsA = documentA.split(' ')\n",
    "bagOfWordsB = documentB.split(' ')"
   ]
  },
  {
   "cell_type": "code",
   "execution_count": 11,
   "id": "dde8530d-8e30-4072-8467-ea38626593b1",
   "metadata": {},
   "outputs": [
    {
     "data": {
      "text/plain": [
       "['Jupiter', 'is', 'the', 'largest', 'Planet']"
      ]
     },
     "execution_count": 11,
     "metadata": {},
     "output_type": "execute_result"
    }
   ],
   "source": [
    "bagOfWordsA"
   ]
  },
  {
   "cell_type": "code",
   "execution_count": 12,
   "id": "520d1851-3b70-42cd-a47b-6bab4b2751ed",
   "metadata": {},
   "outputs": [
    {
     "data": {
      "text/plain": [
       "['Mars', 'is', 'the', 'fourth', 'planet', 'from', 'the', 'Sun']"
      ]
     },
     "execution_count": 12,
     "metadata": {},
     "output_type": "execute_result"
    }
   ],
   "source": [
    "bagOfWordsB"
   ]
  },
  {
   "cell_type": "code",
   "execution_count": 13,
   "id": "91aec706-e57b-4ab1-9bf1-66de5f0a9a8a",
   "metadata": {},
   "outputs": [
    {
     "data": {
      "text/plain": [
       "{'Jupiter',\n",
       " 'Mars',\n",
       " 'Planet',\n",
       " 'Sun',\n",
       " 'fourth',\n",
       " 'from',\n",
       " 'is',\n",
       " 'largest',\n",
       " 'planet',\n",
       " 'the'}"
      ]
     },
     "execution_count": 13,
     "metadata": {},
     "output_type": "execute_result"
    }
   ],
   "source": [
    "uniqueWords = set(bagOfWordsA).union(set(bagOfWordsB))\n",
    "uniqueWords"
   ]
  },
  {
   "cell_type": "code",
   "execution_count": 14,
   "id": "334d88da-e1a8-44d2-a61d-11f429c3f8c4",
   "metadata": {},
   "outputs": [],
   "source": [
    "numOfWordsA = dict.fromkeys(uniqueWords, 0)\n",
    "for word in bagOfWordsA:\n",
    "    numOfWordsA[word] += 1\n",
    "\n",
    "numOfWordsB = dict.fromkeys(uniqueWords, 0)\n",
    "for word in bagOfWordsB:\n",
    "    numOfWordsB[word] += 1"
   ]
  },
  {
   "cell_type": "code",
   "execution_count": 15,
   "id": "e2e9defb-0c0f-483f-9de8-87ddb068e54c",
   "metadata": {},
   "outputs": [
    {
     "data": {
      "text/plain": [
       "{'Mars': 0,\n",
       " 'planet': 0,\n",
       " 'Jupiter': 1,\n",
       " 'fourth': 0,\n",
       " 'Sun': 0,\n",
       " 'the': 1,\n",
       " 'Planet': 1,\n",
       " 'from': 0,\n",
       " 'is': 1,\n",
       " 'largest': 1}"
      ]
     },
     "execution_count": 15,
     "metadata": {},
     "output_type": "execute_result"
    }
   ],
   "source": [
    "numOfWordsA"
   ]
  },
  {
   "cell_type": "code",
   "execution_count": 16,
   "id": "dd6f5b9d-23a1-41a0-a5c2-9bda267121a3",
   "metadata": {},
   "outputs": [
    {
     "data": {
      "text/plain": [
       "{'Mars': 1,\n",
       " 'planet': 1,\n",
       " 'Jupiter': 0,\n",
       " 'fourth': 1,\n",
       " 'Sun': 1,\n",
       " 'the': 2,\n",
       " 'Planet': 0,\n",
       " 'from': 1,\n",
       " 'is': 1,\n",
       " 'largest': 0}"
      ]
     },
     "execution_count": 16,
     "metadata": {},
     "output_type": "execute_result"
    }
   ],
   "source": [
    "numOfWordsB"
   ]
  },
  {
   "cell_type": "code",
   "execution_count": 17,
   "id": "a7b60ed1-3caf-4ac2-bca7-dd7fcfaf25a8",
   "metadata": {},
   "outputs": [],
   "source": [
    "def computeTF(wordDict, bagOfWords):\n",
    "    tfDict = {}\n",
    "    bagOfWordsCount = len(bagOfWords)\n",
    "    for word, count in wordDict.items():\n",
    "        tfDict[word] = count / float(bagOfWordsCount)\n",
    "    return tfDict\n",
    "\n",
    "tfA = computeTF(numOfWordsA, bagOfWordsA)\n",
    "tfB = computeTF(numOfWordsB, bagOfWordsB)"
   ]
  },
  {
   "cell_type": "code",
   "execution_count": 18,
   "id": "1bcee166-86a1-4938-9a00-d84973566a94",
   "metadata": {},
   "outputs": [
    {
     "data": {
      "text/plain": [
       "{'Mars': 0.0,\n",
       " 'planet': 0.0,\n",
       " 'Jupiter': 0.2,\n",
       " 'fourth': 0.0,\n",
       " 'Sun': 0.0,\n",
       " 'the': 0.2,\n",
       " 'Planet': 0.2,\n",
       " 'from': 0.0,\n",
       " 'is': 0.2,\n",
       " 'largest': 0.2}"
      ]
     },
     "execution_count": 18,
     "metadata": {},
     "output_type": "execute_result"
    }
   ],
   "source": [
    "tfA "
   ]
  },
  {
   "cell_type": "code",
   "execution_count": 19,
   "id": "88e7e86e-8840-4794-9dc4-255a45767109",
   "metadata": {},
   "outputs": [
    {
     "data": {
      "text/plain": [
       "{'Mars': 0.125,\n",
       " 'planet': 0.125,\n",
       " 'Jupiter': 0.0,\n",
       " 'fourth': 0.125,\n",
       " 'Sun': 0.125,\n",
       " 'the': 0.25,\n",
       " 'Planet': 0.0,\n",
       " 'from': 0.125,\n",
       " 'is': 0.125,\n",
       " 'largest': 0.0}"
      ]
     },
     "execution_count": 19,
     "metadata": {},
     "output_type": "execute_result"
    }
   ],
   "source": [
    "tfB "
   ]
  },
  {
   "cell_type": "code",
   "execution_count": 20,
   "id": "457c17bc-08f5-4c0c-a727-9cab639a07b5",
   "metadata": {},
   "outputs": [],
   "source": [
    "def computeIDF(documents):\n",
    "    N = len(documents)\n",
    "    idfDict = dict.fromkeys(documents[0].keys(), 0)\n",
    "    for document in documents:\n",
    "        for word, val in document.items():\n",
    "            if val > 0:\n",
    "                idfDict[word] += 1\n",
    "    for word, val in idfDict.items():\n",
    "        idfDict[word] = math.log(N / float(val))\n",
    "    return idfDict\n",
    "\n",
    "idfs = computeIDF([numOfWordsA, numOfWordsB])"
   ]
  },
  {
   "cell_type": "code",
   "execution_count": 21,
   "id": "fe70ca67-ac7d-4d3e-a4b1-bcca6b781611",
   "metadata": {},
   "outputs": [
    {
     "data": {
      "text/plain": [
       "{'Mars': 0.6931471805599453,\n",
       " 'planet': 0.6931471805599453,\n",
       " 'Jupiter': 0.6931471805599453,\n",
       " 'fourth': 0.6931471805599453,\n",
       " 'Sun': 0.6931471805599453,\n",
       " 'the': 0.0,\n",
       " 'Planet': 0.6931471805599453,\n",
       " 'from': 0.6931471805599453,\n",
       " 'is': 0.0,\n",
       " 'largest': 0.6931471805599453}"
      ]
     },
     "execution_count": 21,
     "metadata": {},
     "output_type": "execute_result"
    }
   ],
   "source": [
    "idfs "
   ]
  },
  {
   "cell_type": "code",
   "execution_count": 22,
   "id": "b6630c05-d868-48af-8238-999a1ed22c31",
   "metadata": {},
   "outputs": [
    {
     "name": "stdout",
     "output_type": "stream",
     "text": [
      "       Mars    planet   Jupiter    fourth       Sun  the    Planet      from  \\\n",
      "0  0.000000  0.000000  0.138629  0.000000  0.000000  0.0  0.138629  0.000000   \n",
      "1  0.086643  0.086643  0.000000  0.086643  0.086643  0.0  0.000000  0.086643   \n",
      "\n",
      "    is   largest  \n",
      "0  0.0  0.138629  \n",
      "1  0.0  0.000000  \n"
     ]
    }
   ],
   "source": [
    "def computeTFIDF(tfBagOfWords, idfs):\n",
    "    tfidf = {}\n",
    "    for word, val in tfBagOfWords.items():\n",
    "        tfidf[word] = val * idfs[word]\n",
    "    return tfidf\n",
    "\n",
    "tfidfA = computeTFIDF(tfA, idfs)\n",
    "tfidfB = computeTFIDF(tfB, idfs)\n",
    "\n",
    "# Create a DataFrame for visualization\n",
    "df = pd.DataFrame([tfidfA, tfidfB])\n",
    "print(df)"
   ]
  },
  {
   "cell_type": "code",
   "execution_count": null,
   "id": "1fc8868e-a234-41f8-bf9d-a436acd26440",
   "metadata": {},
   "outputs": [],
   "source": []
  }
 ],
 "metadata": {
  "kernelspec": {
   "display_name": "Python 3 (ipykernel)",
   "language": "python",
   "name": "python3"
  },
  "language_info": {
   "codemirror_mode": {
    "name": "ipython",
    "version": 3
   },
   "file_extension": ".py",
   "mimetype": "text/x-python",
   "name": "python",
   "nbconvert_exporter": "python",
   "pygments_lexer": "ipython3",
   "version": "3.12.7"
  }
 },
 "nbformat": 4,
 "nbformat_minor": 5
}
